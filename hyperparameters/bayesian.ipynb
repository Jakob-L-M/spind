{
 "cells": [
  {
   "cell_type": "code",
   "execution_count": null,
   "metadata": {},
   "outputs": [],
   "source": [
    "from bayes_opt import BayesianOptimization\n",
    "import subprocess\n",
    "from time import time_ns"
   ]
  },
  {
   "cell_type": "code",
   "execution_count": null,
   "metadata": {},
   "outputs": [],
   "source": [
    "def run_spind(CHUNK_SIZE, SORT_SIZE, MERGE_SIZE, VALIDATION_SIZE):\n",
    "    start_time = time_ns()\n",
    "    \n",
    "    # execute spind using the provided parameters\n",
    "    output = subprocess.check_output(['java', '-jar', 'spind.jar', str(round(CHUNK_SIZE)), str(round(SORT_SIZE)), str(round(MERGE_SIZE)), str(round(VALIDATION_SIZE))])\n",
    "\n",
    "    # we want to minimize time -> return negative time since the optimizer is maximizing\n",
    "    # return time in seconds with millisecond resolution\n",
    "    return -(((time_ns() - start_time)//1_000_000)/1_000)"
   ]
  },
  {
   "cell_type": "code",
   "execution_count": null,
   "metadata": {},
   "outputs": [],
   "source": [
    "parameter_bounds = {\n",
    "    'CHUNK_SIZE': (10_000, 100_000_000),\n",
    "    'SORT_SIZE': (10_000, 5_000_000),\n",
    "    'MERGE_SIZE': (2, 1_000),\n",
    "    'VALIDATION_SIZE': (1, 1_000_000)\n",
    "}"
   ]
  },
  {
   "cell_type": "code",
   "execution_count": null,
   "metadata": {},
   "outputs": [],
   "source": [
    "optimizer = BayesianOptimization(\n",
    "    f=run_spind,\n",
    "    pbounds=parameter_bounds,\n",
    "    verbose=2, # verbose = 1 prints only when a maximum is observed, verbose = 0 is silent\n",
    "    random_state=1,\n",
    ")"
   ]
  },
  {
   "cell_type": "code",
   "execution_count": null,
   "metadata": {},
   "outputs": [],
   "source": [
    "optimizer.maximize(20, 65)"
   ]
  },
  {
   "cell_type": "code",
   "execution_count": null,
   "metadata": {},
   "outputs": [],
   "source": [
    "import pandas as pd\n",
    "import numpy as np\n",
    "\n",
    "OPTIMIZATION_NAME = 'TPCH-1'\n",
    "\n",
    "data = []\n",
    "for r in optimizer.res:\n",
    "    t = r['params']\n",
    "    t['time'] = r['target']\n",
    "    data.append(t)\n",
    "df = pd.DataFrame(data)\n",
    "df.values[:,:-1] = np.round(df.values[:,:-1])\n",
    "df.to_csv(f'data/{OPTIMIZATION_NAME}.csv')"
   ]
  }
 ],
 "metadata": {
  "kernelspec": {
   "display_name": "Python 3",
   "language": "python",
   "name": "python3"
  },
  "language_info": {
   "codemirror_mode": {
    "name": "ipython",
    "version": 3
   },
   "file_extension": ".py",
   "mimetype": "text/x-python",
   "name": "python",
   "nbconvert_exporter": "python",
   "pygments_lexer": "ipython3",
   "version": "3.11.4"
  }
 },
 "nbformat": 4,
 "nbformat_minor": 2
}

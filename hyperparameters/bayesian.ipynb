{
 "cells": [
  {
   "cell_type": "code",
   "execution_count": null,
   "metadata": {},
   "outputs": [],
   "source": [
    "from bayes_opt import BayesianOptimization\n",
    "import subprocess\n",
    "from time import time_ns"
   ]
  },
  {
   "cell_type": "code",
   "execution_count": null,
   "metadata": {},
   "outputs": [],
   "source": [
    "def run_spind(CHUNK_SIZE, SORT_SIZE, MERGE_SIZE, VALIDATION_SIZE):\n",
    "    start_time = time_ns()\n",
    "    \n",
    "    # execute spind using the provided parameters\n",
    "    output = subprocess.check_output(['java', '-jar', 'spind.jar', str(round(CHUNK_SIZE)), str(round(SORT_SIZE)), str(round(MERGE_SIZE)), str(round(VALIDATION_SIZE))])\n",
    "\n",
    "    # we want to minimize time -> return negative time since the optimizer is maximizing\n",
    "    # return time in seconds with millisecond resolution\n",
    "    return -(((time_ns() - start_time)//1_000_000)/1_000)"
   ]
  },
  {
   "cell_type": "code",
   "execution_count": null,
   "metadata": {},
   "outputs": [],
   "source": [
    "parameter_bounds = {\n",
    "    'CHUNK_SIZE': (10_000, 100_000_000),\n",
    "    'SORT_SIZE': (10_000, 5_000_000),\n",
    "    'MERGE_SIZE': (2, 1_000),\n",
    "    'VALIDATION_SIZE': (1, 1_000_000)\n",
    "}"
   ]
  },
  {
   "cell_type": "code",
   "execution_count": null,
   "metadata": {},
   "outputs": [],
   "source": [
    "optimizer = BayesianOptimization(\n",
    "    f=run_spind,\n",
    "    pbounds=parameter_bounds,\n",
    "    verbose=2, # verbose = 1 prints only when a maximum is observed, verbose = 0 is silent\n",
    "    random_state=1,\n",
    ")"
   ]
  },
  {
   "cell_type": "code",
   "execution_count": null,
   "metadata": {},
   "outputs": [],
   "source": [
    "optimizer.maximize(20, 65)"
   ]
  },
  {
   "cell_type": "code",
   "execution_count": null,
   "metadata": {},
   "outputs": [],
   "source": [
    "import pandas as pd\n",
    "import numpy as np\n",
    "\n",
    "OPTIMIZATION_NAME = 'TPCH-1'\n",
    "\n",
    "data = []\n",
    "for r in optimizer.res:\n",
    "    t = r['params']\n",
    "    t['time'] = r['target']\n",
    "    data.append(t)\n",
    "df = pd.DataFrame(data)\n",
    "df.values[:,:-1] = np.round(df.values[:,:-1])\n",
    "df.to_csv(f'data/{OPTIMIZATION_NAME}.csv')"
   ]
  },
  {
   "cell_type": "markdown",
   "metadata": {},
   "source": [
    "## Visualization"
   ]
  },
  {
   "cell_type": "code",
   "execution_count": null,
   "metadata": {},
   "outputs": [],
   "source": [
    "import matplotlib.pyplot as plt\n",
    "plt.rcParams[\"font.family\"] = \"Arial\""
   ]
  },
  {
   "cell_type": "code",
   "execution_count": null,
   "metadata": {},
   "outputs": [],
   "source": [
    "df1 = pd.read_csv('data/data_gov_second.csv', index_col='iter')\n",
    "df2 = pd.read_csv('data/TPCH-unary.csv', index_col='iter')"
   ]
  },
  {
   "cell_type": "code",
   "execution_count": null,
   "metadata": {},
   "outputs": [],
   "source": [
    "# set column order\n",
    "cols = ['CHUNK_SIZE', 'SORT_SIZE', 'MERGE_SIZE', 'VALIDATION_SIZE']\n",
    "n = len(cols)\n",
    "fig, ax = plt.subplots(2, n-1)\n",
    "fig.set_figheight(9)\n",
    "fig.set_figwidth(16)\n",
    "\n",
    "for i, df in enumerate([df1, df2]):\n",
    "    col1 = 0\n",
    "    for col2 in range(col1+1, n):\n",
    "        x_name = cols[col2]\n",
    "        y_name = cols[col1]\n",
    "\n",
    "        x = df[x_name]\n",
    "        y = df[y_name]\n",
    "        execution_time = df['time']\n",
    "        ax[i, col2-1].grid()\n",
    "        if i == 1:\n",
    "            ax[i, col2-1].set_xlabel(f\"{x_name.replace('_', ' ')}\")\n",
    "        bin = ax[i, col2-1].hexbin(x, y, gridsize=30, C=execution_time, cmap='Spectral', reduce_C_function=np.mean)\n",
    "\n",
    "        if i == 0:\n",
    "            bin1 = bin\n",
    "        else:\n",
    "            bin2 = bin\n",
    "\n",
    "        if col2 == 1:\n",
    "            ax[i, col2-1].set_ylabel('CHUNK SIZE')\n",
    "\n",
    "fig.subplots_adjust(right=0.89)\n",
    "cbar_ax = fig.add_axes([0.9, 0.12, 0.02, 0.33])\n",
    "fig.colorbar(bin1, cax=cbar_ax)\n",
    "plt.ylabel('Execution time (sec)')\n",
    "cbar_ax = fig.add_axes([0.9, 0.54, 0.02, 0.33])\n",
    "fig.colorbar(bin2, cax=cbar_ax)\n",
    "\n",
    "plt.ylabel('Execution time (sec)')\n",
    "fig.suptitle('Effectiveness of Chunk Size\\nData.gov 85 iterations (top) & TPCH-1 36 iterations (bottom)', fontsize=16)\n",
    "plt.savefig('out.pdf', bbox_inches='tight')\n",
    "plt.show()"
   ]
  }
 ],
 "metadata": {
  "kernelspec": {
   "display_name": "Python 3",
   "language": "python",
   "name": "python3"
  },
  "language_info": {
   "codemirror_mode": {
    "name": "ipython",
    "version": 3
   },
   "file_extension": ".py",
   "mimetype": "text/x-python",
   "name": "python",
   "nbconvert_exporter": "python",
   "pygments_lexer": "ipython3",
   "version": "3.11.4"
  }
 },
 "nbformat": 4,
 "nbformat_minor": 2
}
